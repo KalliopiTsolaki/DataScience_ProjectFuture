{
 "cells": [
  {
   "cell_type": "markdown",
   "metadata": {},
   "source": [
    "## Image classification\n",
    "\n",
    "Implemented a Deep Convolutional Neural Network for image classification, using Keras.\n",
    "\n",
    "- Worked with fashion MNIST dataset.\n",
    "- Preprocessed the data.\n",
    "- Built the CNN model using convolutional layers, adding dropout to avoid overfitting and evaluating its performance with accuracy score, achieving over 90%."
   ]
  },
  {
   "cell_type": "code",
   "execution_count": 1,
   "metadata": {},
   "outputs": [],
   "source": [
    "# Kalliopi Tsolaki, AEM 20\n",
    "# MSc Digital Media & Computational Intelligence\n",
    "# Deep Learning\n",
    "# Project 2019"
   ]
  },
  {
   "cell_type": "code",
   "execution_count": null,
   "metadata": {},
   "outputs": [],
   "source": [
    "import numpy as np\n",
    "from sklearn.preprocessing import MinMaxScaler\n",
    "from sklearn.metrics import confusion_matrix\n",
    "import itertools\n",
    "import matplotlib.pyplot as plt\n",
    "%matplotlib inline\n",
    "import keras \n",
    "from keras import backend as k\n",
    "from keras.models import Sequential\n",
    "from keras.layers import MaxPool2D, Conv2D, Flatten, Dropout\n",
    "from keras.layers.core import Dense , Activation \n",
    "from keras.optimizers import Adam\n",
    "from keras.metrics import categorical_crossentropy\n",
    "\n",
    "from keras.datasets import fashion_mnist\n",
    "\n"
   ]
  },
  {
   "cell_type": "code",
   "execution_count": 3,
   "metadata": {
    "scrolled": true
   },
   "outputs": [
    {
     "name": "stdout",
     "output_type": "stream",
     "text": [
      "Train/test data shape: (60000, 28, 28) (10000, 28, 28)\n",
      "Train/test labels shape: (60000,) (10000,)\n"
     ]
    },
    {
     "data": {
      "image/png": "[encoded data removed]",
      "text/plain": [
       "<Figure size 432x288 with 1 Axes>"
      ]
     },
     "metadata": {
      "needs_background": "light"
     },
     "output_type": "display_data"
    },
    {
     "data": {
      "image/png": "[encoded data removed]",
      "text/plain": [
       "<Figure size 432x288 with 1 Axes>"
      ]
     },
     "metadata": {
      "needs_background": "light"
     },
     "output_type": "display_data"
    }
   ],
   "source": [
    "(x_train, y_train), (x_test, y_test) = fashion_mnist.load_data()\n",
    "\n",
    "print(\"Train/test data shape:\", x_train.shape, x_test.shape)\n",
    "print(\"Train/test labels shape:\", y_train.shape, y_test.shape)\n",
    "\n",
    "for i in range(2):\n",
    "    plt.figure(i)\n",
    "    plt.imshow(x_train[i], cmap='gray')\n",
    "    plt.title(\"Image: \" + str(i) + \" Label: \" + str(y_train[i]))\n",
    "    \n"
   ]
  },
  {
   "cell_type": "code",
   "execution_count": null,
   "metadata": {},
   "outputs": [],
   "source": [
    "for i in range(2):\n",
    "    for x in range (x_train.shape[1]):\n",
    "        for y in range (x_train.shape[2]):\n",
    "            print(x_train[x,y])"
   ]
  },
  {
   "cell_type": "code",
   "execution_count": 11,
   "metadata": {},
   "outputs": [],
   "source": [
    "train_data = np.array(x_train)\n",
    "train_labels = np.array(y_train)\n",
    "test_data = np.array(x_test) \n",
    "test_labels = np.array(y_test)\n",
    "#test_labels = y_test\n",
    "#test_data = y_train"
   ]
  },
  {
   "cell_type": "code",
   "execution_count": 13,
   "metadata": {},
   "outputs": [],
   "source": [
    "\n",
    "#scaler = MinMaxScaler(feature_range=(0,1))\n",
    "#scaled_train_data = scaler.fit_transform((train_data).reshape(-1,1))\n",
    "#scaled_train_data = np.array(scaled_train_data).reshape((60000,28,28))\n",
    "scaled_train_data = train_data.reshape((-1, 28, 28, 1)) / 255.0\n",
    "scaled_test_data = test_data.reshape((-1, 28, 28, 1)) / 255.0\n"
   ]
  },
  {
   "cell_type": "code",
   "execution_count": 20,
   "metadata": {},
   "outputs": [
    {
     "name": "stdout",
     "output_type": "stream",
     "text": [
      "Train/test data shape: (60000, 28, 28, 1) (10000, 28, 28, 1)\n",
      "Train/test labels shape: (60000, 10) (10000,)\n",
      "[0. 0. 0. 0. 0. 0. 0. 0. 0. 1.] 9\n",
      "[1. 0. 0. 0. 0. 0. 0. 0. 0. 0.] 0\n",
      "[1. 0. 0. 0. 0. 0. 0. 0. 0. 0.] 0\n",
      "[0. 0. 0. 1. 0. 0. 0. 0. 0. 0.] 3\n",
      "[1. 0. 0. 0. 0. 0. 0. 0. 0. 0.] 0\n",
      "[0. 0. 1. 0. 0. 0. 0. 0. 0. 0.] 2\n"
     ]
    }
   ],
   "source": [
    "train_labels = np.array(y_train) # Rewriting these 2 lines of code, as multiple execution of this shell would keep \n",
    "#test_labels = np.array(y_test)  adding dimensions on the train_labels and test_labels\n",
    "train_labels = keras.utils.to_categorical(train_labels, num_classes=10)\n",
    "# test_labels = keras.utils.to_categorical(test_labels, num_classes=10)\n",
    "\n",
    "print(\"Train/test data shape:\", scaled_train_data.shape, scaled_test_data.shape)\n",
    "print(\"Train/test labels shape:\", train_labels.shape, test_labels.shape)\n",
    "print(train_labels[0], np.argmax(train_labels[0]))\n",
    "print(train_labels[1], np.argmax(train_labels[1]))\n",
    "print(train_labels[2], np.argmax(train_labels[2]))\n",
    "print(train_labels[3], np.argmax(train_labels[3]))\n",
    "print(train_labels[4], np.argmax(train_labels[4]))\n",
    "print(train_labels[5], np.argmax(train_labels[5]))"
   ]
  },
  {
   "cell_type": "code",
   "execution_count": 22,
   "metadata": {
    "scrolled": false
   },
   "outputs": [
    {
     "name": "stdout",
     "output_type": "stream",
     "text": [
      "Model: \"sequential_2\"\n",
      "_________________________________________________________________\n",
      "Layer (type)                 Output Shape              Param #   \n",
      "=================================================================\n",
      "conv2d_2 (Conv2D)            (None, 24, 24, 64)        1664      \n",
      "_________________________________________________________________\n",
      "max_pooling2d_2 (MaxPooling2 (None, 12, 12, 64)        0         \n",
      "_________________________________________________________________\n",
      "conv2d_3 (Conv2D)            (None, 8, 8, 128)         204928    \n",
      "_________________________________________________________________\n",
      "max_pooling2d_3 (MaxPooling2 (None, 4, 4, 128)         0         \n",
      "_________________________________________________________________\n",
      "flatten_1 (Flatten)          (None, 2048)              0         \n",
      "_________________________________________________________________\n",
      "dense_1 (Dense)              (None, 256)               524544    \n",
      "_________________________________________________________________\n",
      "dense_2 (Dense)              (None, 10)                2570      \n",
      "=================================================================\n",
      "Total params: 733,706\n",
      "Trainable params: 733,706\n",
      "Non-trainable params: 0\n",
      "_________________________________________________________________\n"
     ]
    }
   ],
   "source": [
    "model = Sequential()\n",
    "model.add(Conv2D(64, kernel_size=(5, 5), activation='relu', input_shape=(28, 28, 1)))\n",
    "model.add(MaxPool2D(pool_size=(2, 2)))\n",
    "model.add(Conv2D(128, (5, 5), activation='relu'))\n",
    "model.add(MaxPool2D(pool_size=(2, 2)))\n",
    "model.add(Flatten())\n",
    "model.add(Dense(256, activation='relu'))\n",
    "model.add(Dense(10, activation='softmax'))\n",
    "\n",
    "model.compile(loss='categorical_crossentropy',\n",
    "              optimizer=Adam(lr=0.001),\n",
    "              metrics=['accuracy'])\n",
    "\n",
    "model.summary()"
   ]
  },
  {
   "cell_type": "code",
   "execution_count": null,
   "metadata": {
    "scrolled": true
   },
   "outputs": [],
   "source": [
    "model.fit(scaled_train_data, train_labels,validation_split = 0.1, epochs=30, batch_size=256, verbose=2)"
   ]
  },
  {
   "cell_type": "code",
   "execution_count": null,
   "metadata": {},
   "outputs": [],
   "source": [
    "'''\n",
    "predictions = model.predict(scaled_test_data, batch_size =10, verbose=0)\n",
    "\n",
    "for i in predictions:\n",
    "    print(i)\n",
    "'''"
   ]
  },
  {
   "cell_type": "code",
   "execution_count": 11,
   "metadata": {
    "scrolled": false
   },
   "outputs": [
    {
     "name": "stdout",
     "output_type": "stream",
     "text": [
      "9\n",
      "2\n",
      "1\n",
      "1\n",
      "6\n"
     ]
    }
   ],
   "source": [
    "rounded_predictions = model.predict_classes(scaled_test_data, batch_size = 10, verbose=0)\n",
    "for i in range(5):\n",
    "    print(rounded_predictions[i])"
   ]
  },
  {
   "cell_type": "code",
   "execution_count": 12,
   "metadata": {},
   "outputs": [],
   "source": [
    "cm = confusion_matrix(test_labels, rounded_predictions)"
   ]
  },
  {
   "cell_type": "code",
   "execution_count": 13,
   "metadata": {
    "scrolled": true
   },
   "outputs": [
    {
     "name": "stdout",
     "output_type": "stream",
     "text": [
      "[[808   0  22  15   3   3 140   0   9   0]\n",
      " [  2 982   0  11   3   0   0   0   2   0]\n",
      " [ 12   0 899   9  31   0  48   0   1   0]\n",
      " [ 10   4  11 917  37   0  18   0   3   0]\n",
      " [  1   1  80  18 824   0  74   0   2   0]\n",
      " [  0   0   0   0   0 981   0  12   0   7]\n",
      " [ 69   0  68  22  46   0 788   0   7   0]\n",
      " [  0   0   0   0   0   8   0 975   0  17]\n",
      " [  4   0   3   7   1   1   4   3 974   3]\n",
      " [  1   0   0   0   0   7   0  17   0 975]]\n"
     ]
    },
    {
     "data": {
      "image/png": "[encoded data removed]",
      "text/plain": [
       "<Figure size 288x288 with 2 Axes>"
      ]
     },
     "metadata": {
      "needs_background": "light"
     },
     "output_type": "display_data"
    }
   ],
   "source": [
    "print(cm)\n",
    "\n",
    "plt.matshow(cm)\n",
    "plt.title('Confusion matrix')\n",
    "plt.colorbar()\n",
    "plt.ylabel('True label')\n",
    "plt.xlabel('Predicted label')\n",
    "plt.show()"
   ]
  },
  {
   "cell_type": "code",
   "execution_count": 14,
   "metadata": {},
   "outputs": [
    {
     "name": "stdout",
     "output_type": "stream",
     "text": [
      "WARNING:tensorflow:From C:\\Users\\Jim\\Anaconda3\\lib\\site-packages\\keras\\backend\\tensorflow_backend.py:3445: calling dropout (from tensorflow.python.ops.nn_ops) with keep_prob is deprecated and will be removed in a future version.\n",
      "Instructions for updating:\n",
      "Please use `rate` instead of `keep_prob`. Rate should be set to `rate = 1 - keep_prob`.\n",
      "_________________________________________________________________\n",
      "Layer (type)                 Output Shape              Param #   \n",
      "=================================================================\n",
      "conv2d_3 (Conv2D)            (None, 24, 24, 64)        1664      \n",
      "_________________________________________________________________\n",
      "max_pooling2d_3 (MaxPooling2 (None, 12, 12, 64)        0         \n",
      "_________________________________________________________________\n",
      "dropout_1 (Dropout)          (None, 12, 12, 64)        0         \n",
      "_________________________________________________________________\n",
      "conv2d_4 (Conv2D)            (None, 8, 8, 128)         204928    \n",
      "_________________________________________________________________\n",
      "max_pooling2d_4 (MaxPooling2 (None, 4, 4, 128)         0         \n",
      "_________________________________________________________________\n",
      "dropout_2 (Dropout)          (None, 4, 4, 128)         0         \n",
      "_________________________________________________________________\n",
      "flatten_2 (Flatten)          (None, 2048)              0         \n",
      "_________________________________________________________________\n",
      "dense_3 (Dense)              (None, 256)               524544    \n",
      "_________________________________________________________________\n",
      "dropout_3 (Dropout)          (None, 256)               0         \n",
      "_________________________________________________________________\n",
      "dense_4 (Dense)              (None, 10)                2570      \n",
      "=================================================================\n",
      "Total params: 733,706\n",
      "Trainable params: 733,706\n",
      "Non-trainable params: 0\n",
      "_________________________________________________________________\n"
     ]
    }
   ],
   "source": [
    "model = Sequential()\n",
    "model.add(Conv2D(64, kernel_size=(5, 5), activation='relu', input_shape=(28, 28, 1)))\n",
    "model.add(MaxPool2D(pool_size=(2, 2)))\n",
    "model.add(Dropout(0.2))\n",
    "model.add(Conv2D(128, (5, 5), activation='relu'))\n",
    "model.add(MaxPool2D(pool_size=(2, 2)))\n",
    "model.add(Dropout(0.2))\n",
    "model.add(Flatten())\n",
    "model.add(Dense(256, activation='relu'))\n",
    "model.add(Dropout(0.2))\n",
    "model.add(Dense(10, activation='softmax'))\n",
    "\n",
    "model.compile(loss='categorical_crossentropy',\n",
    "              optimizer=Adam(lr=0.001),\n",
    "              metrics=['accuracy'])\n",
    "\n",
    "model.summary()"
   ]
  },
  {
   "cell_type": "code",
   "execution_count": 15,
   "metadata": {},
   "outputs": [
    {
     "name": "stdout",
     "output_type": "stream",
     "text": [
      "Train on 54000 samples, validate on 6000 samples\n",
      "Epoch 1/30\n",
      " - 175s - loss: 0.6307 - acc: 0.7689 - val_loss: 0.4103 - val_acc: 0.8493\n",
      "Epoch 2/30\n",
      " - 152s - loss: 0.3772 - acc: 0.8646 - val_loss: 0.3339 - val_acc: 0.8773\n",
      "Epoch 3/30\n",
      " - 157s - loss: 0.3250 - acc: 0.8832 - val_loss: 0.2925 - val_acc: 0.8938\n",
      "Epoch 4/30\n",
      " - 143s - loss: 0.2943 - acc: 0.8938 - val_loss: 0.2773 - val_acc: 0.8960\n",
      "Epoch 5/30\n",
      " - 163s - loss: 0.2728 - acc: 0.8998 - val_loss: 0.2583 - val_acc: 0.9043\n",
      "Epoch 6/30\n",
      " - 146s - loss: 0.2533 - acc: 0.9074 - val_loss: 0.2648 - val_acc: 0.9042\n",
      "Epoch 7/30\n",
      " - 150s - loss: 0.2374 - acc: 0.9133 - val_loss: 0.2435 - val_acc: 0.9085\n",
      "Epoch 8/30\n",
      " - 141s - loss: 0.2245 - acc: 0.9161 - val_loss: 0.2380 - val_acc: 0.9118\n",
      "Epoch 9/30\n",
      " - 139s - loss: 0.2149 - acc: 0.9204 - val_loss: 0.2344 - val_acc: 0.9120\n",
      "Epoch 10/30\n",
      " - 140s - loss: 0.2019 - acc: 0.9239 - val_loss: 0.2205 - val_acc: 0.9177\n",
      "Epoch 11/30\n",
      " - 142s - loss: 0.1921 - acc: 0.9290 - val_loss: 0.2351 - val_acc: 0.9120\n",
      "Epoch 12/30\n",
      " - 140s - loss: 0.1839 - acc: 0.9310 - val_loss: 0.2110 - val_acc: 0.9195\n",
      "Epoch 13/30\n",
      " - 139s - loss: 0.1735 - acc: 0.9339 - val_loss: 0.2109 - val_acc: 0.9210\n",
      "Epoch 14/30\n",
      " - 139s - loss: 0.1669 - acc: 0.9368 - val_loss: 0.2241 - val_acc: 0.9185\n",
      "Epoch 15/30\n",
      " - 139s - loss: 0.1570 - acc: 0.9409 - val_loss: 0.2158 - val_acc: 0.9187\n",
      "Epoch 16/30\n",
      " - 139s - loss: 0.1493 - acc: 0.9434 - val_loss: 0.2133 - val_acc: 0.9222\n",
      "Epoch 17/30\n",
      " - 139s - loss: 0.1429 - acc: 0.9450 - val_loss: 0.2069 - val_acc: 0.9215\n",
      "Epoch 18/30\n",
      " - 139s - loss: 0.1404 - acc: 0.9462 - val_loss: 0.2159 - val_acc: 0.9207\n",
      "Epoch 19/30\n",
      " - 139s - loss: 0.1332 - acc: 0.9495 - val_loss: 0.2136 - val_acc: 0.9200\n",
      "Epoch 20/30\n",
      " - 139s - loss: 0.1278 - acc: 0.9512 - val_loss: 0.2157 - val_acc: 0.9233\n",
      "Epoch 21/30\n",
      " - 139s - loss: 0.1210 - acc: 0.9540 - val_loss: 0.2085 - val_acc: 0.9235\n",
      "Epoch 22/30\n",
      " - 139s - loss: 0.1171 - acc: 0.9549 - val_loss: 0.2093 - val_acc: 0.9255\n",
      "Epoch 23/30\n",
      " - 148s - loss: 0.1100 - acc: 0.9574 - val_loss: 0.2261 - val_acc: 0.9197\n",
      "Epoch 24/30\n",
      " - 167s - loss: 0.1053 - acc: 0.9608 - val_loss: 0.2153 - val_acc: 0.9215\n",
      "Epoch 25/30\n",
      " - 148s - loss: 0.1005 - acc: 0.9607 - val_loss: 0.2391 - val_acc: 0.9217\n",
      "Epoch 26/30\n",
      " - 172s - loss: 0.0976 - acc: 0.9626 - val_loss: 0.2294 - val_acc: 0.9245\n",
      "Epoch 27/30\n",
      " - 178s - loss: 0.0963 - acc: 0.9632 - val_loss: 0.2162 - val_acc: 0.9275\n",
      "Epoch 28/30\n",
      " - 163s - loss: 0.0898 - acc: 0.9660 - val_loss: 0.2408 - val_acc: 0.9258\n",
      "Epoch 29/30\n",
      " - 182s - loss: 0.0889 - acc: 0.9659 - val_loss: 0.2428 - val_acc: 0.9242\n",
      "Epoch 30/30\n",
      " - 140s - loss: 0.0867 - acc: 0.9674 - val_loss: 0.2390 - val_acc: 0.9265\n"
     ]
    },
    {
     "data": {
      "text/plain": [
       "<keras.callbacks.History at 0x1933731c9b0>"
      ]
     },
     "execution_count": 15,
     "metadata": {},
     "output_type": "execute_result"
    }
   ],
   "source": [
    "model.fit(scaled_train_data, train_labels,validation_split = 0.1, epochs=30, batch_size=256, verbose=2)"
   ]
  },
  {
   "cell_type": "code",
   "execution_count": null,
   "metadata": {},
   "outputs": [],
   "source": []
  },
  {
   "cell_type": "code",
   "execution_count": 17,
   "metadata": {},
   "outputs": [
    {
     "name": "stdout",
     "output_type": "stream",
     "text": [
      "Downloading data from https://github.com/fchollet/deep-learning-models/releases/download/v0.1/vgg16_weights_tf_dim_ordering_tf_kernels.h5\n",
      "553467904/553467096 [==============================] - 1291s 2us/step\n"
     ]
    }
   ],
   "source": [
    "vgg16_model = keras.applications.vgg16.VGG16()"
   ]
  },
  {
   "cell_type": "code",
   "execution_count": null,
   "metadata": {},
   "outputs": [],
   "source": [
    "vgg16_model.summary()"
   ]
  },
  {
   "cell_type": "code",
   "execution_count": null,
   "metadata": {},
   "outputs": [],
   "source": [
    "type(vgg16_model)\n",
    "model = Sequential()\n",
    "for layer in vgg16_model.layers:\n",
    "    model.add(layer)\n",
    "model.summary()    "
   ]
  },
  {
   "cell_type": "code",
   "execution_count": null,
   "metadata": {},
   "outputs": [],
   "source": [
    "model.layers.pop()\n",
    "model.summary()"
   ]
  },
  {
   "cell_type": "code",
   "execution_count": null,
   "metadata": {},
   "outputs": [],
   "source": [
    "for layer in model.layers:\n",
    "    layer.trainable = False\n",
    "model.add(Dense(10, activation = 'softmax'))    \n",
    "model.summary()\n",
    "    "
   ]
  },
  {
   "cell_type": "code",
   "execution_count": null,
   "metadata": {},
   "outputs": [],
   "source": [
    "model.compile(Adam(lr=.0001), loss = 'categorical_crossentropy', metrics = ['accuracy'])\n",
    "model.fit_generator(scaled_train_data, train_labels,validation_split = 0.1, epochs=5, batch_size=256, verbose=2)"
   ]
  }
 ],
 "metadata": {
  "kernelspec": {
   "display_name": "Python 3",
   "language": "python",
   "name": "python3"
  },
  "language_info": {
   "codemirror_mode": {
    "name": "ipython",
    "version": 3
   },
   "file_extension": ".py",
   "mimetype": "text/x-python",
   "name": "python",
   "nbconvert_exporter": "python",
   "pygments_lexer": "ipython3",
   "version": "3.7.6"
  }
 },
 "nbformat": 4,
 "nbformat_minor": 2
}
